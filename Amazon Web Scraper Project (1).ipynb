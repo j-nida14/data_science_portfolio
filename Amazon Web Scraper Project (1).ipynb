{
 "cells": [
  {
   "cell_type": "code",
   "execution_count": 1,
   "id": "02c58a64",
   "metadata": {},
   "outputs": [],
   "source": [
    "#import libraries\n",
    " \n",
    "from bs4 import BeautifulSoup\n",
    "import requests \n",
    "import time\n",
    "import datetime\n",
    "import smtplib"
   ]
  },
  {
   "cell_type": "code",
   "execution_count": 6,
   "id": "04cae6f6",
   "metadata": {},
   "outputs": [
    {
     "name": "stdout",
     "output_type": "stream",
     "text": [
      "\n",
      "                 CAROVO Gold Necklace for Women,Dainty Gold/Silver Choker Necklace Simple Necklaces Sparkle Dot Sequins Shining Satellite Box link Coin Square Dot Chain Gold Jewelry for Gift\n",
      "                \n",
      "\n",
      "\n",
      "\n",
      "\n",
      "                     $19.99\n",
      "                    \n",
      "\n",
      "\n",
      "\n",
      "\n",
      "\n",
      "                       $\n",
      "                      \n",
      "\n",
      "                       19\n",
      "                       \n",
      "                        .\n",
      "                       \n",
      "\n",
      "\n",
      "                       99\n",
      "                      \n",
      "\n",
      "\n",
      "\n",
      "\n",
      "\n",
      "\n",
      "\n",
      "\n",
      "\n",
      "\n",
      "\n",
      "\n",
      "\n",
      "\n"
     ]
    }
   ],
   "source": [
    "#connect to the website\n",
    "\n",
    "URL = 'https://www.amazon.ca/gp/product/B0C7TFQKHN/ref=ox_sc_saved_image_1?smid=A3C9R8979U5I1S&th=1'\n",
    "\n",
    "headers = {\"User-Agent\": \"Mozilla/5.0 (Macintosh; Intel Mac OS X 10_15_7) AppleWebKit/537.36 (KHTML, like Gecko) Chrome/118.0.0.0 Safari/537.36\", \"Accept-Encoding\": \"gzip, deflate\", \"Accept\":\"text/html,application/xhtml+xml,application/xml;q=0.9,*/*;q=0.8\", \"DNT\":\"1\", \"Connection\": \"close \", \"Upgrade-Insecure-Requests\": \"1\"}\n",
    "\n",
    "page = requests.get(URL, headers=headers)\n",
    "           \n",
    "soup1 = BeautifulSoup(page.content, \"html.parser\")\n",
    "\n",
    "soup2 = BeautifulSoup(soup1.prettify(), \"html.parser\")\n",
    "\n",
    "title = soup2.find(id='productTitle').get_text()\n",
    "\n",
    "price = soup2.find(id='corePriceDisplay_desktop_feature_div').get_text()\n",
    "\n",
    "print(title)\n",
    "print(price)"
   ]
  },
  {
   "cell_type": "code",
   "execution_count": 7,
   "id": "d1487103",
   "metadata": {},
   "outputs": [
    {
     "name": "stdout",
     "output_type": "stream",
     "text": [
      "CAROVO Gold Necklace for Women,Dainty Gold/Silver Choker Necklace Simple Necklaces Sparkle Dot Sequins Shining Satellite Box link Coin Square Dot Chain Gold Jewelry for Gift\n",
      "19.99\n"
     ]
    }
   ],
   "source": [
    "price = price.strip()[1:6]\n",
    "title = title.strip()\n",
    "print(title)\n",
    "print(price)\n"
   ]
  },
  {
   "cell_type": "code",
   "execution_count": 8,
   "id": "592f2ef3-4ef9-4161-9b72-54b72ff76840",
   "metadata": {
    "tags": []
   },
   "outputs": [],
   "source": [
    "import datetime\n",
    "today = datetime.date.today()"
   ]
  },
  {
   "cell_type": "code",
   "execution_count": 9,
   "id": "f06cf011",
   "metadata": {},
   "outputs": [],
   "source": [
    "import csv\n",
    "\n",
    "header= ['Title', 'Price','Date']\n",
    "data = [title,price,today]\n",
    "\n",
    "with open ('AmazonWebScraperDataset.csv', 'w', newline='',encoding='UTF8') as f:\n",
    "    writer = csv.writer(f)\n",
    "    writer.writerow(header)\n",
    "    writer.writerow(data)\n",
    "   "
   ]
  },
  {
   "cell_type": "code",
   "execution_count": 10,
   "id": "9a95459b-982c-43e7-be6b-81fc01639cce",
   "metadata": {
    "tags": []
   },
   "outputs": [
    {
     "name": "stdout",
     "output_type": "stream",
     "text": [
      "                                               Title  Price        Date\n",
      "0  CAROVO Gold Necklace for Women,Dainty Gold/Sil...  19.99  2023-11-29\n"
     ]
    }
   ],
   "source": [
    "import pandas as pd\n",
    "df = pd.read_csv('AmazonWebScraperDataset.csv')\n",
    "print(df)"
   ]
  },
  {
   "cell_type": "code",
   "execution_count": 11,
   "id": "13d62f76",
   "metadata": {},
   "outputs": [],
   "source": [
    "with open ('AmazonWebScraperDataset.csv', 'a+', newline='',encoding='UTF8') as f:\n",
    "    writer = csv.writer(f)\n",
    "    writer.writerow(data)"
   ]
  },
  {
   "cell_type": "code",
   "execution_count": null,
   "id": "26cb1b2b",
   "metadata": {},
   "outputs": [],
   "source": []
  }
 ],
 "metadata": {
  "kernelspec": {
   "display_name": "Python 3 (ipykernel)",
   "language": "python",
   "name": "python3"
  },
  "language_info": {
   "codemirror_mode": {
    "name": "ipython",
    "version": 3
   },
   "file_extension": ".py",
   "mimetype": "text/x-python",
   "name": "python",
   "nbconvert_exporter": "python",
   "pygments_lexer": "ipython3",
   "version": "3.11.5"
  }
 },
 "nbformat": 4,
 "nbformat_minor": 5
}
